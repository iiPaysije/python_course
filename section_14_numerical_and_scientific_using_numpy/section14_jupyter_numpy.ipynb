{
  "nbformat": 4,
  "nbformat_minor": 0,
  "metadata": {
    "colab": {
      "provenance": []
    },
    "kernelspec": {
      "name": "python3",
      "display_name": "Python 3"
    },
    "language_info": {
      "name": "python"
    }
  },
  "cells": [
    {
      "cell_type": "code",
      "execution_count": 1,
      "metadata": {
        "id": "MDlwywL4lv17"
      },
      "outputs": [],
      "source": [
        "import numpy"
      ]
    },
    {
      "cell_type": "code",
      "source": [
        "n = numpy.arange(27)\n",
        "n"
      ],
      "metadata": {
        "colab": {
          "base_uri": "https://localhost:8080/"
        },
        "id": "iwEvRot4l_rW",
        "outputId": "c08ad81d-a84d-4701-ac1b-aebc479d2ab2"
      },
      "execution_count": 3,
      "outputs": [
        {
          "output_type": "execute_result",
          "data": {
            "text/plain": [
              "array([ 0,  1,  2,  3,  4,  5,  6,  7,  8,  9, 10, 11, 12, 13, 14, 15, 16,\n",
              "       17, 18, 19, 20, 21, 22, 23, 24, 25, 26])"
            ]
          },
          "metadata": {},
          "execution_count": 3
        }
      ]
    },
    {
      "cell_type": "code",
      "source": [
        "# Reshape to 3x9 since we have 27 elements\n",
        "n.reshape(3,9)"
      ],
      "metadata": {
        "colab": {
          "base_uri": "https://localhost:8080/"
        },
        "id": "1Qwa6CSwmqx5",
        "outputId": "7afe5321-1ca2-43d6-9ec6-50dc317760c7"
      },
      "execution_count": 4,
      "outputs": [
        {
          "output_type": "execute_result",
          "data": {
            "text/plain": [
              "array([[ 0,  1,  2,  3,  4,  5,  6,  7,  8],\n",
              "       [ 9, 10, 11, 12, 13, 14, 15, 16, 17],\n",
              "       [18, 19, 20, 21, 22, 23, 24, 25, 26]])"
            ]
          },
          "metadata": {},
          "execution_count": 4
        }
      ]
    },
    {
      "cell_type": "code",
      "source": [
        "import cv2"
      ],
      "metadata": {
        "id": "RUO1WVE8mxtG"
      },
      "execution_count": 5,
      "outputs": []
    },
    {
      "cell_type": "code",
      "source": [
        "im_gray = cv2.imread(\"smallgray.png\", 0)\n",
        "im_gray"
      ],
      "metadata": {
        "colab": {
          "base_uri": "https://localhost:8080/"
        },
        "id": "P_X-xtWQn_0G",
        "outputId": "4ac11ee6-e5e9-4a83-d4af-bd41d850b37a"
      },
      "execution_count": 7,
      "outputs": [
        {
          "output_type": "execute_result",
          "data": {
            "text/plain": [
              "array([[187, 158, 104, 121, 143],\n",
              "       [198, 125, 255, 255, 147],\n",
              "       [209, 134, 255,  97, 182]], dtype=uint8)"
            ]
          },
          "metadata": {},
          "execution_count": 7
        }
      ]
    },
    {
      "cell_type": "code",
      "source": [
        "# Create image from array using numpy\n",
        "\n",
        "cv2.imwrite(\"new_image.png\", im_gray)"
      ],
      "metadata": {
        "colab": {
          "base_uri": "https://localhost:8080/"
        },
        "id": "CJW7H6GPophb",
        "outputId": "2552aad4-7546-4f0d-d2cb-21bb4d5cc389"
      },
      "execution_count": 8,
      "outputs": [
        {
          "output_type": "execute_result",
          "data": {
            "text/plain": [
              "True"
            ]
          },
          "metadata": {},
          "execution_count": 8
        }
      ]
    },
    {
      "cell_type": "code",
      "source": [
        "# extract specific array items , 3-4 colums 2-3 rows\n",
        "\n",
        "im_gray[0:2,2:4]"
      ],
      "metadata": {
        "colab": {
          "base_uri": "https://localhost:8080/"
        },
        "id": "BvAtaIvrpk4V",
        "outputId": "0362b1b7-a7a1-47a8-bf50-722ed10f2245"
      },
      "execution_count": 9,
      "outputs": [
        {
          "output_type": "execute_result",
          "data": {
            "text/plain": [
              "array([[104, 121],\n",
              "       [255, 255]], dtype=uint8)"
            ]
          },
          "metadata": {},
          "execution_count": 9
        }
      ]
    },
    {
      "cell_type": "code",
      "source": [
        "# iterate values one by one\n",
        "\n",
        "for i in im_gray.flat:\n",
        "  print(i)"
      ],
      "metadata": {
        "colab": {
          "base_uri": "https://localhost:8080/"
        },
        "id": "aJkdTddrqjWd",
        "outputId": "f104eae1-172f-45ed-9831-41f544c40b27"
      },
      "execution_count": 10,
      "outputs": [
        {
          "output_type": "stream",
          "name": "stdout",
          "text": [
            "187\n",
            "158\n",
            "104\n",
            "121\n",
            "143\n",
            "198\n",
            "125\n",
            "255\n",
            "255\n",
            "147\n",
            "209\n",
            "134\n",
            "255\n",
            "97\n",
            "182\n"
          ]
        }
      ]
    },
    {
      "cell_type": "code",
      "source": [
        "# Horizontally stack arrays\n",
        "# must put it inside tuple , so we cna stack\n",
        "\n",
        "stacked = numpy.hstack((im_gray, im_gray))\n",
        "stacked"
      ],
      "metadata": {
        "colab": {
          "base_uri": "https://localhost:8080/"
        },
        "id": "Gx6GEeLFrSBh",
        "outputId": "01caebb2-22f2-41a4-f2de-7a463825d599"
      },
      "execution_count": 12,
      "outputs": [
        {
          "output_type": "execute_result",
          "data": {
            "text/plain": [
              "array([[187, 158, 104, 121, 143, 187, 158, 104, 121, 143],\n",
              "       [198, 125, 255, 255, 147, 198, 125, 255, 255, 147],\n",
              "       [209, 134, 255,  97, 182, 209, 134, 255,  97, 182]], dtype=uint8)"
            ]
          },
          "metadata": {},
          "execution_count": 12
        }
      ]
    },
    {
      "cell_type": "code",
      "source": [
        "# Vertically stack arrays\n",
        "v_stacked = numpy.vstack((im_gray, im_gray))\n",
        "v_stacked"
      ],
      "metadata": {
        "colab": {
          "base_uri": "https://localhost:8080/"
        },
        "id": "gdLECjrOsRr4",
        "outputId": "d95fb39e-6d46-4063-f97f-2b71629a6116"
      },
      "execution_count": 13,
      "outputs": [
        {
          "output_type": "execute_result",
          "data": {
            "text/plain": [
              "array([[187, 158, 104, 121, 143],\n",
              "       [198, 125, 255, 255, 147],\n",
              "       [209, 134, 255,  97, 182],\n",
              "       [187, 158, 104, 121, 143],\n",
              "       [198, 125, 255, 255, 147],\n",
              "       [209, 134, 255,  97, 182]], dtype=uint8)"
            ]
          },
          "metadata": {},
          "execution_count": 13
        }
      ]
    },
    {
      "cell_type": "code",
      "source": [
        "# Splitting array horizontally\n",
        "splitted = numpy.vsplit(v_stacked, 3)\n",
        "splitted"
      ],
      "metadata": {
        "colab": {
          "base_uri": "https://localhost:8080/"
        },
        "id": "AXctcHU1snB_",
        "outputId": "3d30753e-924e-43f0-8ace-cb1e15f67e56"
      },
      "execution_count": 16,
      "outputs": [
        {
          "output_type": "execute_result",
          "data": {
            "text/plain": [
              "[array([[187, 158, 104, 121, 143],\n",
              "        [198, 125, 255, 255, 147]], dtype=uint8),\n",
              " array([[209, 134, 255,  97, 182],\n",
              "        [187, 158, 104, 121, 143]], dtype=uint8),\n",
              " array([[198, 125, 255, 255, 147],\n",
              "        [209, 134, 255,  97, 182]], dtype=uint8)]"
            ]
          },
          "metadata": {},
          "execution_count": 16
        }
      ]
    },
    {
      "cell_type": "code",
      "source": [],
      "metadata": {
        "id": "vj1JL6ECtSgp"
      },
      "execution_count": null,
      "outputs": []
    }
  ]
}